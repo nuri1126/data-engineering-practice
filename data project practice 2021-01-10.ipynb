{
 "cells": [
  {
   "cell_type": "code",
   "execution_count": 11,
   "metadata": {},
   "outputs": [
    {
     "ename": "ImportError",
     "evalue": "No module named 'pandas'",
     "output_type": "error",
     "traceback": [
      "\u001b[0;31m---------------------------------------------------------------------------\u001b[0m",
      "\u001b[0;31mImportError\u001b[0m                               Traceback (most recent call last)",
      "\u001b[0;32m<ipython-input-11-79e62067ffa1>\u001b[0m in \u001b[0;36m<module>\u001b[0;34m()\u001b[0m\n\u001b[1;32m      1\u001b[0m \u001b[0;32mimport\u001b[0m \u001b[0mpsycopg2\u001b[0m\u001b[0;34m\u001b[0m\u001b[0m\n\u001b[1;32m      2\u001b[0m \u001b[0;32mimport\u001b[0m \u001b[0mcsv\u001b[0m\u001b[0;34m\u001b[0m\u001b[0m\n\u001b[0;32m----> 3\u001b[0;31m \u001b[0;32mimport\u001b[0m \u001b[0mpandas\u001b[0m \u001b[0;32mas\u001b[0m \u001b[0mpd\u001b[0m\u001b[0;34m\u001b[0m\u001b[0m\n\u001b[0m",
      "\u001b[0;31mImportError\u001b[0m: No module named 'pandas'"
     ]
    }
   ],
   "source": [
    "import psycopg2\n",
    "import csv\n",
    "import pandas as pd"
   ]
  },
  {
   "cell_type": "code",
   "execution_count": null,
   "metadata": {},
   "outputs": [],
   "source": [
    "#db connection\n",
    "conn = psycopg2.connect(host='localhost', dbname='linewalks_db', user='postgres', password='', port='5432')\n",
    "cur = conn.cursor()"
   ]
  },
  {
   "cell_type": "code",
   "execution_count": null,
   "metadata": {
    "scrolled": true
   },
   "outputs": [],
   "source": [
    "#create table person\n",
    "cur.execute(\"CREATE TABLE person (person_id int, gender_concept_id int, birth_datetime timestamp, race_concept_id int, ethnicity_concept_id int);\")"
   ]
  },
  {
   "cell_type": "code",
   "execution_count": 3,
   "metadata": {},
   "outputs": [],
   "source": [
    "#insert rows into person\n",
    "f = open('./synthea_cdm_csv/person.csv','r')\n",
    "csvReader = csv.reader(f)\n",
    "next(csvReader)\n",
    "for row in csvReader:\n",
    "    person_id = row[0]\n",
    "    gender_concept_id = row[1]\n",
    "    birth_datetime = row[5]\n",
    "    race_concept_id = row[6]\n",
    "    ethnicity_concept_id = row[7]\n",
    "    cur.execute(\"INSERT INTO person (person_id, gender_concept_id,birth_datetime,race_concept_id,ethnicity_concept_id) VALUES(%s,%s,%s,%s,%s)\",(person_id,gender_concept_id,birth_datetime,race_concept_id,ethnicity_concept_id))"
   ]
  },
  {
   "cell_type": "code",
   "execution_count": 220,
   "metadata": {},
   "outputs": [
    {
     "name": "stdout",
     "output_type": "stream",
     "text": [
      "(1000,)\n"
     ]
    }
   ],
   "source": [
    "#check person data\n",
    "cur.execute(\"SELECT count(*) FROM person;\")\n",
    "print (cur.fetchone())"
   ]
  },
  {
   "cell_type": "code",
   "execution_count": 118,
   "metadata": {},
   "outputs": [],
   "source": [
    "#create table visit_occurrence\n",
    "cur.execute(\"CREATE TABLE visit_occurrence (visit_occurrence_id int, person_id int, visit_concept_id int, visit_start_datetime timestamp, visit_end_datetime timestamp);\")"
   ]
  },
  {
   "cell_type": "code",
   "execution_count": 4,
   "metadata": {},
   "outputs": [],
   "source": [
    "#insert rows into visit_occurrence\n",
    "f = open('./synthea_cdm_csv/visit_occurrence.csv','r')\n",
    "csvReader = csv.reader(f)\n",
    "next(csvReader)\n",
    "for row in csvReader:\n",
    "    cur.execute(\"INSERT INTO visit_occurrence (visit_occurrence_id,person_id,visit_concept_id,visit_start_datetime,visit_end_datetime) VALUES(%s,%s,%s,%s,%s)\",(row[0],row[1],row[2],row[4],row[6]))\n",
    "    "
   ]
  },
  {
   "cell_type": "code",
   "execution_count": 5,
   "metadata": {},
   "outputs": [],
   "source": [
    "#check visit_occurrence data\n",
    "cur.execute(\"SELECT count(*) FROM visit_occurrence;\")\n",
    "print (cur.fetchone())"
   ]
  },
  {
   "cell_type": "code",
   "execution_count": 214,
   "metadata": {},
   "outputs": [],
   "source": [
    "#create table condition_occurrence\n",
    "cur.execute(\"CREATE TABLE condition_occurrence (person_id int, condition_concept_id varchar, condition_start_datetime timestamp, condition_end_datetime timestamp, visit_occurrence_id int);\")"
   ]
  },
  {
   "cell_type": "code",
   "execution_count": 7,
   "metadata": {},
   "outputs": [],
   "source": [
    "#insert rows into condition_occurrence\n",
    "f = open('./synthea_cdm_csv/condition_occurrence.csv','r')\n",
    "csvReader = csv.reader(f)\n",
    "next(csvReader)\n",
    "for row in csvReader:\n",
    "    if row[6]=='':\n",
    "        row[6]=None\n",
    "    cur.execute(\"INSERT INTO condition_occurrence (person_id, condition_concept_id, condition_start_datetime, condition_end_datetime, visit_occurrence_id) VALUES(%s,%s,%s,%s,%s)\",(row[1],row[2],row[4],row[6],row[10]))\n",
    "    "
   ]
  },
  {
   "cell_type": "code",
   "execution_count": 230,
   "metadata": {},
   "outputs": [
    {
     "name": "stdout",
     "output_type": "stream",
     "text": [
      "(12167,)\n"
     ]
    }
   ],
   "source": [
    "#check condition_occurrence data\n",
    "cur.execute(\"SELECT count(*) FROM condition_occurrence;\")\n",
    "print (cur.fetchone())"
   ]
  },
  {
   "cell_type": "code",
   "execution_count": 248,
   "metadata": {},
   "outputs": [],
   "source": [
    "#create table drug_exposure\n",
    "cur.execute(\"CREATE TABLE drug_exposure (person_id int, drug_concept_id int, drug_exposure_start_datetime timestamp, drug_exposure_end_datetime timestamp, visit_occurrence_id int);\")"
   ]
  },
  {
   "cell_type": "code",
   "execution_count": 8,
   "metadata": {},
   "outputs": [],
   "source": [
    "#insert rows into drug_exposure\n",
    "f = open('./synthea_cdm_csv/drug_exposure.csv','r')\n",
    "csvReader = csv.reader(f)\n",
    "next(csvReader)\n",
    "for row in csvReader:\n",
    "    if row[6]=='':\n",
    "        row[6]=None\n",
    "    cur.execute(\"INSERT INTO drug_exposure (person_id, drug_concept_id, drug_exposure_start_datetime, drug_exposure_end_datetime, visit_occurrence_id) VALUES(%s,%s,%s,%s,%s)\",(row[1],row[2],row[4],row[6],row[17]))\n",
    "    "
   ]
  },
  {
   "cell_type": "code",
   "execution_count": 250,
   "metadata": {},
   "outputs": [
    {
     "name": "stdout",
     "output_type": "stream",
     "text": [
      "(46579,)\n"
     ]
    }
   ],
   "source": [
    "#check drug_exposure data\n",
    "cur.execute(\"SELECT count(*) FROM drug_exposure;\")\n",
    "print (cur.fetchone())"
   ]
  },
  {
   "cell_type": "code",
   "execution_count": 280,
   "metadata": {},
   "outputs": [],
   "source": [
    "#create table concept\n",
    "cur.execute(\"CREATE TABLE concept (concept_id int, concept_name varchar, domain_id varchar);\")"
   ]
  },
  {
   "cell_type": "code",
   "execution_count": 9,
   "metadata": {},
   "outputs": [],
   "source": [
    "#insert rows into concept\n",
    "f = open('./synthea_cdm_csv/concept.csv','r')\n",
    "csvReader = csv.reader(f)\n",
    "next(csvReader)\n",
    "for row in csvReader:\n",
    "    cur.execute(\"INSERT INTO concept (concept_id, concept_name, domain_id) VALUES(%s,%s,%s)\",(row[0],row[1],row[2]))\n",
    "    "
   ]
  },
  {
   "cell_type": "code",
   "execution_count": null,
   "metadata": {},
   "outputs": [],
   "source": [
    "#check concept data\n",
    "cur.execute(\"SELECT count(*) FROM concept;\")\n",
    "print (cur.fetchone())"
   ]
  },
  {
   "cell_type": "code",
   "execution_count": null,
   "metadata": {},
   "outputs": [],
   "source": [
    "#create table death\n",
    "cur.execute(\"CREATE TABLE death (person_id int, death_date timestamp);\")"
   ]
  },
  {
   "cell_type": "code",
   "execution_count": null,
   "metadata": {},
   "outputs": [],
   "source": [
    "#insert rows into concept\n",
    "f = open('./synthea_cdm_csv/death.csv','r')\n",
    "csvReader = csv.reader(f)\n",
    "next(csvReader)\n",
    "for row in csvReader:\n",
    "    print(row)\n",
    "    cur.execute(\"INSERT INTO death (person_id, death_date) VALUES(%s,%s)\",(row[0],row[1]))\n",
    "    "
   ]
  },
  {
   "cell_type": "code",
   "execution_count": null,
   "metadata": {},
   "outputs": [],
   "source": []
  },
  {
   "cell_type": "code",
   "execution_count": null,
   "metadata": {},
   "outputs": [],
   "source": [
    "conn.commit() \n",
    "conn.close() "
   ]
  }
 ],
 "metadata": {
  "kernelspec": {
   "display_name": "Python 3",
   "language": "python",
   "name": "python3"
  },
  "language_info": {
   "codemirror_mode": {
    "name": "ipython",
    "version": 3
   },
   "file_extension": ".py",
   "mimetype": "text/x-python",
   "name": "python",
   "nbconvert_exporter": "python",
   "pygments_lexer": "ipython3",
   "version": "3.4.3"
  }
 },
 "nbformat": 4,
 "nbformat_minor": 4
}
